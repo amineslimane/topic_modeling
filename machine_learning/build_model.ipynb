{
 "cells": [
  {
   "cell_type": "code",
   "execution_count": null,
   "metadata": {
    "collapsed": true
   },
   "outputs": [],
   "source": [
    "from sklearn.feature_extraction.text import TfidfVectorizer\n",
    "import pandas as pd\n",
    "from sklearn.decomposition import NMF\n",
    "import pickle\n",
    "\n",
    "\n",
    "topics = [\n",
    "    '👨 Staff management',\n",
    "    '🕘 Waiting Time',\n",
    "    '🍕 Pizza',\n",
    "    '🛎️ Customer Service',\n",
    "    '👨‍🍳 Food Quality',\n",
    "    '🍔 Burger',\n",
    "    '🍴 Ordering & Delivery to table',\n",
    "    '🌍 Place Environnement',\n",
    "    '🐔 Menu Chicken',\n",
    "    '🥤 Drinks',\n",
    "    'Experience',\n",
    "    '🌍 Location',\n",
    "    '😵 Taste',\n",
    "    '🍣 Sushi and Rice',\n",
    "    '🥪 Sandwich']\n",
    "\n",
    "\n",
    "# Construction du modèle\n",
    "def build_model(df):\n",
    "    vectorizer = TfidfVectorizer(ngram_range=(1, 1), max_df=.8, min_df=.02)\n",
    "    data = vectorizer.fit_transform(df.text_cleaned)\n",
    "    matrix_df = pd.DataFrame(data.toarray(), columns=vectorizer.get_feature_names())\n",
    "    matrix_df.index = df.index\n",
    "\n",
    "    nmf_model = NMF(15, max_iter=600)\n",
    "    doc_topic = nmf_model.fit_transform(matrix_df)\n",
    "    display_predicted_topics(nmf_model, vectorizer.get_feature_names(), 10, topics)\n",
    "    with open('../nmf_model/model','wb') as file:\n",
    "        pickle.dump(nmf_model, file)\n",
    "    with open('../nmf_model/vectorizer','wb') as file:\n",
    "        pickle.dump(vectorizer, file)\n",
    "\n",
    "\n",
    "def display_predicted_topics(model, feature_names, num_top_words,topic_names=None):\n",
    "    for ix, topic in enumerate(model.components_):\n",
    "        if not topic_names or not topic_names[ix]:\n",
    "            print(\"\\nTopic \", ix)\n",
    "        else:\n",
    "            print(\"\\nTopic: '\",topic_names[ix],\"'\")\n",
    "        print(\", \".join([feature_names[i] \\\n",
    "             for i in topic.argsort()[:-num_top_words - 1:-1]]))\n",
    "\n",
    "\n",
    "# Construction du modèle\n",
    "dataset_negative_df = pd.read_csv(\"../data/dataset_negative.csv\")\n",
    "build_model(dataset_negative_df)"
   ]
  }
 ],
 "metadata": {
  "kernelspec": {
   "display_name": "Python 3",
   "language": "python",
   "name": "python3"
  },
  "language_info": {
   "codemirror_mode": {
    "name": "ipython",
    "version": 2
   },
   "file_extension": ".py",
   "mimetype": "text/x-python",
   "name": "python",
   "nbconvert_exporter": "python",
   "pygments_lexer": "ipython2",
   "version": "2.7.6"
  }
 },
 "nbformat": 4,
 "nbformat_minor": 0
}